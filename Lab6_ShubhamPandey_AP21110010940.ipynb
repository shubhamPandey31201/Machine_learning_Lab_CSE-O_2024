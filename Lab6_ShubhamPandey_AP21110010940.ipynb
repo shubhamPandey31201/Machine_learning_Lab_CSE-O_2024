{
 "cells": [
  {
   "cell_type": "code",
   "execution_count": 1,
   "metadata": {
    "id": "mKCs0auwVxYD"
   },
   "outputs": [],
   "source": [
    "import numpy as np\n",
    "import pandas as pd\n",
    "from sklearn.model_selection import train_test_split\n",
    "from sklearn.tree import DecisionTreeClassifier\n",
    "from sklearn import metrics"
   ]
  },
  {
   "cell_type": "code",
   "execution_count": 2,
   "metadata": {
    "colab": {
     "base_uri": "https://localhost:8080/"
    },
    "id": "dPLlK14eV-YE",
    "outputId": "8c4f0636-d6a9-4078-98f2-6f49eb44baf8"
   },
   "outputs": [
    {
     "name": "stdout",
     "output_type": "stream",
     "text": [
      "Collecting ucimlrepo\n",
      "  Downloading ucimlrepo-0.0.3-py3-none-any.whl (7.0 kB)\n",
      "Installing collected packages: ucimlrepo\n",
      "Successfully installed ucimlrepo-0.0.3\n"
     ]
    }
   ],
   "source": [
    "pip install ucimlrepo"
   ]
  },
  {
   "cell_type": "code",
   "execution_count": 3,
   "metadata": {
    "colab": {
     "base_uri": "https://localhost:8080/"
    },
    "id": "gHeUV64lWDDQ",
    "outputId": "67700b13-6f98-45d0-8635-ca72c084d105"
   },
   "outputs": [
    {
     "name": "stdout",
     "output_type": "stream",
     "text": [
      "{'uci_id': 109, 'name': 'Wine', 'repository_url': 'https://archive.ics.uci.edu/dataset/109/wine', 'data_url': 'https://archive.ics.uci.edu/static/public/109/data.csv', 'abstract': 'Using chemical analysis to determine the origin of wines', 'area': 'Physics and Chemistry', 'tasks': ['Classification'], 'characteristics': ['Tabular'], 'num_instances': 178, 'num_features': 13, 'feature_types': ['Integer', 'Real'], 'demographics': [], 'target_col': ['class'], 'index_col': None, 'has_missing_values': 'no', 'missing_values_symbol': None, 'year_of_dataset_creation': 1992, 'last_updated': 'Mon Aug 28 2023', 'dataset_doi': '10.24432/C5PC7J', 'creators': ['Stefan Aeberhard', 'M. Forina'], 'intro_paper': {'title': 'Comparative analysis of statistical pattern recognition methods in high dimensional settings', 'authors': 'S. Aeberhard, D. Coomans, O. Vel', 'published_in': 'Pattern Recognition', 'year': 1994, 'url': 'https://www.semanticscholar.org/paper/83dc3e4030d7b9fbdbb4bde03ce12ab70ca10528', 'doi': '10.1016/0031-3203(94)90145-7'}, 'additional_info': {'summary': 'These data are the results of a chemical analysis of wines grown in the same region in Italy but derived from three different cultivars. The analysis determined the quantities of 13 constituents found in each of the three types of wines. \\r\\n\\r\\nI think that the initial data set had around 30 variables, but for some reason I only have the 13 dimensional version. I had a list of what the 30 or so variables were, but a.)  I lost it, and b.), I would not know which 13 variables are included in the set.\\r\\n\\r\\nThe attributes are (dontated by Riccardo Leardi, riclea@anchem.unige.it )\\r\\n1) Alcohol\\r\\n2) Malic acid\\r\\n3) Ash\\r\\n4) Alcalinity of ash  \\r\\n5) Magnesium\\r\\n6) Total phenols\\r\\n7) Flavanoids\\r\\n8) Nonflavanoid phenols\\r\\n9) Proanthocyanins\\r\\n10)Color intensity\\r\\n11)Hue\\r\\n12)OD280/OD315 of diluted wines\\r\\n13)Proline \\r\\n\\r\\nIn a classification context, this is a well posed problem with \"well behaved\" class structures. A good data set for first testing of a new classifier, but not very challenging.           ', 'purpose': 'test', 'funded_by': None, 'instances_represent': None, 'recommended_data_splits': None, 'sensitive_data': None, 'preprocessing_description': None, 'variable_info': 'All attributes are continuous\\r\\n\\t\\r\\nNo statistics available, but suggest to standardise variables for certain uses (e.g. for us with classifiers which are NOT scale invariant)\\r\\n\\r\\nNOTE: 1st attribute is class identifier (1-3)', 'citation': None}}\n",
      "                            name     role         type demographic  \\\n",
      "0                          class   Target  Categorical        None   \n",
      "1                        Alcohol  Feature   Continuous        None   \n",
      "2                      Malicacid  Feature   Continuous        None   \n",
      "3                            Ash  Feature   Continuous        None   \n",
      "4              Alcalinity_of_ash  Feature   Continuous        None   \n",
      "5                      Magnesium  Feature      Integer        None   \n",
      "6                  Total_phenols  Feature   Continuous        None   \n",
      "7                     Flavanoids  Feature   Continuous        None   \n",
      "8           Nonflavanoid_phenols  Feature   Continuous        None   \n",
      "9                Proanthocyanins  Feature   Continuous        None   \n",
      "10               Color_intensity  Feature   Continuous        None   \n",
      "11                           Hue  Feature   Continuous        None   \n",
      "12  0D280_0D315_of_diluted_wines  Feature   Continuous        None   \n",
      "13                       Proline  Feature      Integer        None   \n",
      "\n",
      "   description units missing_values  \n",
      "0         None  None             no  \n",
      "1         None  None             no  \n",
      "2         None  None             no  \n",
      "3         None  None             no  \n",
      "4         None  None             no  \n",
      "5         None  None             no  \n",
      "6         None  None             no  \n",
      "7         None  None             no  \n",
      "8         None  None             no  \n",
      "9         None  None             no  \n",
      "10        None  None             no  \n",
      "11        None  None             no  \n",
      "12        None  None             no  \n",
      "13        None  None             no  \n"
     ]
    }
   ],
   "source": [
    "from ucimlrepo import fetch_ucirepo\n",
    "\n",
    "# fetch dataset\n",
    "wine = fetch_ucirepo(id=109)\n",
    "\n",
    "# data (as pandas dataframes)\n",
    "X = wine.data.features\n",
    "y = wine.data.targets\n",
    "\n",
    "# metadata\n",
    "print(wine.metadata)\n",
    "\n",
    "# variable information\n",
    "print(wine.variables)"
   ]
  },
  {
   "cell_type": "code",
   "execution_count": 4,
   "metadata": {
    "id": "jbxMk9KyWGOG"
   },
   "outputs": [],
   "source": [
    "url = \"https://archive.ics.uci.edu/static/public/109/data.csv\"\n",
    "df = pd.read_csv(url)"
   ]
  },
  {
   "cell_type": "code",
   "execution_count": 5,
   "metadata": {
    "id": "TPj9BKkMWQ-_"
   },
   "outputs": [],
   "source": [
    "X = df.drop(columns=['class'])  # Features are all columns except 'class'\n",
    "y = df['class']"
   ]
  },
  {
   "cell_type": "code",
   "execution_count": 6,
   "metadata": {
    "colab": {
     "base_uri": "https://localhost:8080/"
    },
    "id": "05cdpWlQWTJN",
    "outputId": "709335bd-c81d-411b-e43c-7ee51825c34d"
   },
   "outputs": [
    {
     "name": "stdout",
     "output_type": "stream",
     "text": [
      "Shape of X: (178, 13)\n",
      "Shape of y: (178,)\n"
     ]
    }
   ],
   "source": [
    "print(\"Shape of X:\", X.shape)\n",
    "print(\"Shape of y:\", y.shape)"
   ]
  },
  {
   "cell_type": "code",
   "execution_count": 7,
   "metadata": {
    "colab": {
     "base_uri": "https://localhost:8080/"
    },
    "id": "vWXMUf_KWUhQ",
    "outputId": "8c0dd51c-3044-4151-b5ee-60eba92a5bcb"
   },
   "outputs": [
    {
     "name": "stdout",
     "output_type": "stream",
     "text": [
      "\n",
      "First few rows of X:\n",
      "   Alcohol  Malicacid   Ash  Alcalinity_of_ash  Magnesium  Total_phenols  \\\n",
      "0    14.23       1.71  2.43               15.6        127           2.80   \n",
      "1    13.20       1.78  2.14               11.2        100           2.65   \n",
      "2    13.16       2.36  2.67               18.6        101           2.80   \n",
      "3    14.37       1.95  2.50               16.8        113           3.85   \n",
      "4    13.24       2.59  2.87               21.0        118           2.80   \n",
      "\n",
      "   Flavanoids  Nonflavanoid_phenols  Proanthocyanins  Color_intensity   Hue  \\\n",
      "0        3.06                  0.28             2.29             5.64  1.04   \n",
      "1        2.76                  0.26             1.28             4.38  1.05   \n",
      "2        3.24                  0.30             2.81             5.68  1.03   \n",
      "3        3.49                  0.24             2.18             7.80  0.86   \n",
      "4        2.69                  0.39             1.82             4.32  1.04   \n",
      "\n",
      "   0D280_0D315_of_diluted_wines  Proline  \n",
      "0                          3.92     1065  \n",
      "1                          3.40     1050  \n",
      "2                          3.17     1185  \n",
      "3                          3.45     1480  \n",
      "4                          2.93      735  \n"
     ]
    }
   ],
   "source": [
    "print(\"\\nFirst few rows of X:\")\n",
    "print(X.head())"
   ]
  },
  {
   "cell_type": "code",
   "execution_count": 8,
   "metadata": {
    "colab": {
     "base_uri": "https://localhost:8080/"
    },
    "id": "0J0mhyDqWWkJ",
    "outputId": "f25d90fa-c533-4100-97c8-5d6d22ed099d"
   },
   "outputs": [
    {
     "name": "stdout",
     "output_type": "stream",
     "text": [
      "\n",
      "First few rows of y:\n",
      "0    1\n",
      "1    1\n",
      "2    1\n",
      "3    1\n",
      "4    1\n",
      "Name: class, dtype: int64\n"
     ]
    }
   ],
   "source": [
    "print(\"\\nFirst few rows of y:\")\n",
    "print(y.head())"
   ]
  },
  {
   "cell_type": "code",
   "execution_count": 9,
   "metadata": {
    "colab": {
     "base_uri": "https://localhost:8080/"
    },
    "id": "m9BItHqbWYfX",
    "outputId": "2d603067-31c2-43c5-fac1-416c0bfb5284"
   },
   "outputs": [
    {
     "name": "stdout",
     "output_type": "stream",
     "text": [
      "Shape of X_train: (142, 13)\n",
      "Shape of X_test: (36, 13)\n",
      "Shape of y_train: (142,)\n",
      "Shape of y_test: (36,)\n"
     ]
    }
   ],
   "source": [
    "X_train, X_test, y_train, y_test = train_test_split(X, y, test_size=0.2, random_state=42)\n",
    "\n",
    "# Print the shapes to verify\n",
    "print(\"Shape of X_train:\", X_train.shape)\n",
    "print(\"Shape of X_test:\", X_test.shape)\n",
    "print(\"Shape of y_train:\", y_train.shape)\n",
    "print(\"Shape of y_test:\", y_test.shape)"
   ]
  },
  {
   "cell_type": "code",
   "execution_count": 10,
   "metadata": {
    "colab": {
     "base_uri": "https://localhost:8080/"
    },
    "id": "ZPbmbRIUWamI",
    "outputId": "06c6e25b-d6df-43fa-c427-47d9fc5a0f00"
   },
   "outputs": [
    {
     "name": "stdout",
     "output_type": "stream",
     "text": [
      "\n",
      "First few rows of X_train:\n",
      "     Alcohol  Malicacid   Ash  Alcalinity_of_ash  Magnesium  Total_phenols  \\\n",
      "158    14.34       1.68  2.70               25.0         98           2.80   \n",
      "137    12.53       5.51  2.64               25.0         96           1.79   \n",
      "98     12.37       1.07  2.10               18.5         88           3.52   \n",
      "159    13.48       1.67  2.64               22.5         89           2.60   \n",
      "38     13.07       1.50  2.10               15.5         98           2.40   \n",
      "\n",
      "     Flavanoids  Nonflavanoid_phenols  Proanthocyanins  Color_intensity   Hue  \\\n",
      "158        1.31                  0.53             2.70            13.00  0.57   \n",
      "137        0.60                  0.63             1.10             5.00  0.82   \n",
      "98         3.75                  0.24             1.95             4.50  1.04   \n",
      "159        1.10                  0.52             2.29            11.75  0.57   \n",
      "38         2.64                  0.28             1.37             3.70  1.18   \n",
      "\n",
      "     0D280_0D315_of_diluted_wines  Proline  \n",
      "158                          1.96      660  \n",
      "137                          1.69      515  \n",
      "98                           2.77      660  \n",
      "159                          1.78      620  \n",
      "38                           2.69     1020  \n",
      "\n",
      "First few rows of X_test:\n",
      "     Alcohol  Malicacid   Ash  Alcalinity_of_ash  Magnesium  Total_phenols  \\\n",
      "19     13.64       3.10  2.56               15.2        116           2.70   \n",
      "45     14.21       4.04  2.44               18.9        111           2.85   \n",
      "140    12.93       2.81  2.70               21.0         96           1.54   \n",
      "30     13.73       1.50  2.70               22.5        101           3.00   \n",
      "67     12.37       1.17  1.92               19.6         78           2.11   \n",
      "\n",
      "     Flavanoids  Nonflavanoid_phenols  Proanthocyanins  Color_intensity   Hue  \\\n",
      "19         3.03                  0.17             1.66             5.10  0.96   \n",
      "45         2.65                  0.30             1.25             5.24  0.87   \n",
      "140        0.50                  0.53             0.75             4.60  0.77   \n",
      "30         3.25                  0.29             2.38             5.70  1.19   \n",
      "67         2.00                  0.27             1.04             4.68  1.12   \n",
      "\n",
      "     0D280_0D315_of_diluted_wines  Proline  \n",
      "19                           3.36      845  \n",
      "45                           3.33     1080  \n",
      "140                          2.31      600  \n",
      "30                           2.71     1285  \n",
      "67                           3.48      510  \n",
      "\n",
      "First few rows of y_train:\n",
      "158    3\n",
      "137    3\n",
      "98     2\n",
      "159    3\n",
      "38     1\n",
      "Name: class, dtype: int64\n",
      "\n",
      "First few rows of y_test:\n",
      "19     1\n",
      "45     1\n",
      "140    3\n",
      "30     1\n",
      "67     2\n",
      "Name: class, dtype: int64\n"
     ]
    }
   ],
   "source": [
    "print(\"\\nFirst few rows of X_train:\")\n",
    "print(X_train.head())\n",
    "\n",
    "print(\"\\nFirst few rows of X_test:\")\n",
    "print(X_test.head())\n",
    "\n",
    "print(\"\\nFirst few rows of y_train:\")\n",
    "print(y_train.head())\n",
    "\n",
    "print(\"\\nFirst few rows of y_test:\")\n",
    "print(y_test.head())"
   ]
  },
  {
   "cell_type": "code",
   "execution_count": 11,
   "metadata": {
    "id": "OgyeoPS5Wdfr"
   },
   "outputs": [],
   "source": [
    "def accuracy(y_true, y_pred):\n",
    "    return np.sum(y_true == y_pred) / len(y_true)"
   ]
  },
  {
   "cell_type": "code",
   "execution_count": 12,
   "metadata": {
    "colab": {
     "base_uri": "https://localhost:8080/"
    },
    "id": "nkptLI_KWgZb",
    "outputId": "d85bbd2c-183f-4a4b-ab7c-f0f531c294f2"
   },
   "outputs": [
    {
     "name": "stdout",
     "output_type": "stream",
     "text": [
      "Alcohol                         float64\n",
      "Malicacid                       float64\n",
      "Ash                             float64\n",
      "Alcalinity_of_ash               float64\n",
      "Magnesium                         int64\n",
      "Total_phenols                   float64\n",
      "Flavanoids                      float64\n",
      "Nonflavanoid_phenols            float64\n",
      "Proanthocyanins                 float64\n",
      "Color_intensity                 float64\n",
      "Hue                             float64\n",
      "0D280_0D315_of_diluted_wines    float64\n",
      "Proline                           int64\n",
      "dtype: object\n",
      "Alcohol                         float64\n",
      "Malicacid                       float64\n",
      "Ash                             float64\n",
      "Alcalinity_of_ash               float64\n",
      "Magnesium                         int64\n",
      "Total_phenols                   float64\n",
      "Flavanoids                      float64\n",
      "Nonflavanoid_phenols            float64\n",
      "Proanthocyanins                 float64\n",
      "Color_intensity                 float64\n",
      "Hue                             float64\n",
      "0D280_0D315_of_diluted_wines    float64\n",
      "Proline                           int64\n",
      "dtype: object\n"
     ]
    }
   ],
   "source": [
    "print(X_train.dtypes)\n",
    "print(X_test.dtypes)"
   ]
  },
  {
   "cell_type": "code",
   "execution_count": 13,
   "metadata": {
    "id": "GISi2Y7SW0jS"
   },
   "outputs": [],
   "source": [
    "def confusion_matrix(y_true, y_pred):\n",
    "    # Determine the size of the matrix\n",
    "    num_classes = np.max(np.unique(y_true)) + 1\n",
    "\n",
    "    # Initialize the confusion matrix with zeros\n",
    "    conf_matrix = np.zeros((num_classes, num_classes), dtype=int)\n",
    "\n",
    "    # Populate the confusion matrix\n",
    "    for actual, predicted in zip(y_true, y_pred):\n",
    "        conf_matrix[actual][predicted] += 1\n",
    "\n",
    "    return conf_matrix\n"
   ]
  },
  {
   "cell_type": "code",
   "execution_count": 14,
   "metadata": {
    "colab": {
     "base_uri": "https://localhost:8080/"
    },
    "id": "i0tmAqMmYL7Z",
    "outputId": "36179948-2781-4288-9c5c-0548745ab30d"
   },
   "outputs": [
    {
     "name": "stdout",
     "output_type": "stream",
     "text": [
      "\n",
      "Accuracy for k=1: 0.7778\n",
      "Confusion Matrix for k=1:\n",
      "[[ 0  0  0  0]\n",
      " [ 0 12  0  2]\n",
      " [ 0  3 11  0]\n",
      " [ 0  1  2  5]]\n",
      "\n",
      "Accuracy for k=3: 0.8056\n",
      "Confusion Matrix for k=3:\n",
      "[[ 0  0  0  0]\n",
      " [ 0 12  0  2]\n",
      " [ 0  1 11  2]\n",
      " [ 0  1  1  6]]\n",
      "\n",
      "Accuracy for k=5: 0.7222\n",
      "Confusion Matrix for k=5:\n",
      "[[ 0  0  0  0]\n",
      " [ 0 12  0  2]\n",
      " [ 0  0 11  3]\n",
      " [ 0  2  3  3]]\n",
      "\n",
      "Accuracy for k=7: 0.6944\n",
      "Confusion Matrix for k=7:\n",
      "[[ 0  0  0  0]\n",
      " [ 0 13  0  1]\n",
      " [ 0  0  9  5]\n",
      " [ 0  2  3  3]]\n",
      "\n",
      "Accuracy for k=9: 0.7222\n",
      "Confusion Matrix for k=9:\n",
      "[[ 0  0  0  0]\n",
      " [ 0 12  0  2]\n",
      " [ 0  0  9  5]\n",
      " [ 0  2  1  5]]\n"
     ]
    }
   ],
   "source": [
    "import numpy as np\n",
    "\n",
    "def euclidean_distance(x1, x2):\n",
    "    return np.sqrt(np.sum((x1 - x2)**2))\n",
    "\n",
    "def predict(X_train, y_train, X_test, k):\n",
    "    y_pred = []\n",
    "\n",
    "    for test_point in X_test:\n",
    "        distances = [euclidean_distance(test_point, train_point) for train_point in X_train]\n",
    "        k_indices = np.argsort(distances)[:k]\n",
    "        k_nearest_labels = [y_train[i] for i in k_indices]\n",
    "\n",
    "        # Convert labels to numerical values\n",
    "        label_mapping = {label: i for i, label in enumerate(np.unique(y_train))}\n",
    "        k_nearest_labels_numeric = [label_mapping[label] for label in k_nearest_labels]\n",
    "\n",
    "        most_common = np.bincount(k_nearest_labels_numeric).argmax()\n",
    "        y_pred.append(list(label_mapping.keys())[list(label_mapping.values()).index(most_common)])\n",
    "\n",
    "    return np.array(y_pred)\n",
    "\n",
    "# Test the model\n",
    "k_values = [1, 3, 5, 7, 9]  # Different values of K to test\n",
    "\n",
    "for k in k_values:\n",
    "    # Predictions for the test set\n",
    "    y_pred = predict(X_train.values, y_train.values, X_test.values, k)\n",
    "\n",
    "    # Calculate accuracy\n",
    "    acc = accuracy(y_test.values, y_pred)\n",
    "    print(f\"\\nAccuracy for k={k}: {acc:.4f}\")\n",
    "\n",
    "    # Confusion matrix\n",
    "    conf_matrix = confusion_matrix(y_test.values, y_pred)\n",
    "    print(f\"Confusion Matrix for k={k}:\\n{conf_matrix}\")"
   ]
  },
  {
   "cell_type": "code",
   "execution_count": 15,
   "metadata": {
    "colab": {
     "base_uri": "https://localhost:8080/",
     "height": 599
    },
    "id": "ca64aBGTY78g",
    "outputId": "8c53f270-1954-4566-ca4b-67887c7f5837"
   },
   "outputs": [
    {
     "data": {
      "image/png": "[encoded data removed]",
      "text/plain": [
       "<Figure size 1000x600 with 1 Axes>"
      ]
     },
     "metadata": {},
     "output_type": "display_data"
    },
    {
     "name": "stdout",
     "output_type": "stream",
     "text": [
      "\n",
      "Maximum Accuracy: 0.8056 at k = 3\n"
     ]
    }
   ],
   "source": [
    "import matplotlib.pyplot as plt\n",
    "\n",
    "accuracy_values = []\n",
    "\n",
    "for k in k_values:\n",
    "    y_pred = predict(X_train.values, y_train.values, X_test.values, k)\n",
    "    acc = accuracy(y_test.values, y_pred)\n",
    "    accuracy_values.append(acc)\n",
    "\n",
    "plt.figure(figsize=(10, 6))\n",
    "plt.plot(k_values, accuracy_values, marker='o')\n",
    "plt.xlabel('K')\n",
    "plt.ylabel('Accuracy')\n",
    "plt.title('K vs Accuracy')\n",
    "plt.grid(True)\n",
    "plt.show()\n",
    "\n",
    "max_acc_index = np.argmax(accuracy_values)\n",
    "max_acc_k = k_values[max_acc_index]\n",
    "print(f\"\\nMaximum Accuracy: {accuracy_values[max_acc_index]:.4f} at k = {max_acc_k}\")"
   ]
  }
 ],
 "metadata": {
  "colab": {
   "provenance": []
  },
  "kernelspec": {
   "display_name": "Python 3 (ipykernel)",
   "language": "python",
   "name": "python3"
  },
  "language_info": {
   "codemirror_mode": {
    "name": "ipython",
    "version": 3
   },
   "file_extension": ".py",
   "mimetype": "text/x-python",
   "name": "python",
   "nbconvert_exporter": "python",
   "pygments_lexer": "ipython3",
   "version": "3.11.5"
  }
 },
 "nbformat": 4,
 "nbformat_minor": 1
}
