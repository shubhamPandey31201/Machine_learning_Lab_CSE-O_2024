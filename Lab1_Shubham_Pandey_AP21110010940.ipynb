{
 "cells": [
  {
   "cell_type": "code",
   "execution_count": 1,
   "id": "7cf3881d",
   "metadata": {},
   "outputs": [],
   "source": [
    "#1. Write a NumPy program to multiply two given arrays of same size element-by-element"
   ]
  },
  {
   "cell_type": "code",
   "execution_count": 2,
   "id": "276409ec",
   "metadata": {},
   "outputs": [],
   "source": [
    "import numpy as np"
   ]
  },
  {
   "cell_type": "code",
   "execution_count": 3,
   "id": "d92a3c7a",
   "metadata": {},
   "outputs": [],
   "source": [
    "n1=np.array([[2,2],[2,2]],np.int16)"
   ]
  },
  {
   "cell_type": "code",
   "execution_count": 4,
   "id": "74015167",
   "metadata": {},
   "outputs": [],
   "source": [
    "n2=np.array([[2,2],[2,2]],np.int16)"
   ]
  },
  {
   "cell_type": "code",
   "execution_count": 5,
   "id": "4df53a5f",
   "metadata": {},
   "outputs": [],
   "source": [
    "result=np.multiply(n1,n2)"
   ]
  },
  {
   "cell_type": "code",
   "execution_count": 6,
   "id": "a8cd0413",
   "metadata": {},
   "outputs": [
    {
     "data": {
      "text/plain": [
       "array([[4, 4],\n",
       "       [4, 4]], dtype=int16)"
      ]
     },
     "execution_count": 6,
     "metadata": {},
     "output_type": "execute_result"
    }
   ],
   "source": [
    "result\n",
    "\n"
   ]
  },
  {
   "cell_type": "code",
   "execution_count": 7,
   "id": "5cdc2f85",
   "metadata": {},
   "outputs": [],
   "source": [
    "#Write a NumPy program to find the missing data in a given array."
   ]
  },
  {
   "cell_type": "code",
   "execution_count": 8,
   "id": "85a38360",
   "metadata": {},
   "outputs": [],
   "source": [
    "a1=np.array([[1,2,3,np.nan,4],[1,np.nan,2,np.nan,np.nan]])"
   ]
  },
  {
   "cell_type": "code",
   "execution_count": 9,
   "id": "63f38ea5",
   "metadata": {},
   "outputs": [],
   "source": [
    "nanResult=np.isnan(a1)"
   ]
  },
  {
   "cell_type": "code",
   "execution_count": 10,
   "id": "dc706bcf",
   "metadata": {},
   "outputs": [
    {
     "data": {
      "text/plain": [
       "array([[False, False, False,  True, False],\n",
       "       [False,  True, False,  True,  True]])"
      ]
     },
     "execution_count": 10,
     "metadata": {},
     "output_type": "execute_result"
    }
   ],
   "source": [
    "nanResult"
   ]
  },
  {
   "cell_type": "code",
   "execution_count": 11,
   "id": "b1dc83a0",
   "metadata": {},
   "outputs": [],
   "source": [
    "#3. Write a NumPy program to test whether each element of a 1-D array is also present in a second array\n"
   ]
  },
  {
   "cell_type": "code",
   "execution_count": 12,
   "id": "cf84d277",
   "metadata": {},
   "outputs": [],
   "source": [
    "a2=np.array([1,2,3,4])"
   ]
  },
  {
   "cell_type": "code",
   "execution_count": 13,
   "id": "7005e216",
   "metadata": {},
   "outputs": [],
   "source": [
    "a3=np.array([2,4,5,6,7])"
   ]
  },
  {
   "cell_type": "code",
   "execution_count": 14,
   "id": "80ce598f",
   "metadata": {},
   "outputs": [],
   "source": [
    "doesExist=np.isin(a2,a3)"
   ]
  },
  {
   "cell_type": "code",
   "execution_count": 15,
   "id": "799c9b8d",
   "metadata": {},
   "outputs": [
    {
     "data": {
      "text/plain": [
       "array([False,  True, False,  True])"
      ]
     },
     "execution_count": 15,
     "metadata": {},
     "output_type": "execute_result"
    }
   ],
   "source": [
    "doesExist"
   ]
  },
  {
   "cell_type": "code",
   "execution_count": 16,
   "id": "7f4229fd",
   "metadata": {},
   "outputs": [],
   "source": [
    "#4. Write a NumPy program to save a NumPy array to a text file."
   ]
  },
  {
   "cell_type": "code",
   "execution_count": 17,
   "id": "c5f1ab4c",
   "metadata": {},
   "outputs": [],
   "source": [
    "arr=np.array([[1,2,3,4],[2,3,4,7]])"
   ]
  },
  {
   "cell_type": "code",
   "execution_count": 18,
   "id": "dccb2fcb",
   "metadata": {},
   "outputs": [],
   "source": [
    "np.savetxt(\"numpyQuestion4.txt\",arr,fmt='%d',delimiter=',')"
   ]
  },
  {
   "cell_type": "code",
   "execution_count": 19,
   "id": "926e696c",
   "metadata": {},
   "outputs": [],
   "source": [
    "file=open(\"numpyQuestion4.txt\",\"r\")"
   ]
  },
  {
   "cell_type": "code",
   "execution_count": 20,
   "id": "4dd337c6",
   "metadata": {},
   "outputs": [],
   "source": [
    "data=file.read()"
   ]
  },
  {
   "cell_type": "code",
   "execution_count": 21,
   "id": "b3dd3d26",
   "metadata": {},
   "outputs": [
    {
     "data": {
      "text/plain": [
       "'1,2,3,4\\n2,3,4,7\\n'"
      ]
     },
     "execution_count": 21,
     "metadata": {},
     "output_type": "execute_result"
    }
   ],
   "source": [
    "data\n"
   ]
  },
  {
   "cell_type": "code",
   "execution_count": 22,
   "id": "6e964a2b",
   "metadata": {},
   "outputs": [],
   "source": [
    "#Write a NumPy program to Create a 1-D array of 30 evenly spaced elements between 2.5 and 6.5 inclusive"
   ]
  },
  {
   "cell_type": "code",
   "execution_count": 23,
   "id": "3ab2300f",
   "metadata": {},
   "outputs": [],
   "source": [
    "arr2=np.linspace(2.5,6.5,30)"
   ]
  },
  {
   "cell_type": "code",
   "execution_count": 24,
   "id": "6d23ee60",
   "metadata": {},
   "outputs": [
    {
     "data": {
      "text/plain": [
       "array([2.5       , 2.63793103, 2.77586207, 2.9137931 , 3.05172414,\n",
       "       3.18965517, 3.32758621, 3.46551724, 3.60344828, 3.74137931,\n",
       "       3.87931034, 4.01724138, 4.15517241, 4.29310345, 4.43103448,\n",
       "       4.56896552, 4.70689655, 4.84482759, 4.98275862, 5.12068966,\n",
       "       5.25862069, 5.39655172, 5.53448276, 5.67241379, 5.81034483,\n",
       "       5.94827586, 6.0862069 , 6.22413793, 6.36206897, 6.5       ])"
      ]
     },
     "execution_count": 24,
     "metadata": {},
     "output_type": "execute_result"
    }
   ],
   "source": [
    "arr2"
   ]
  },
  {
   "cell_type": "code",
   "execution_count": 25,
   "id": "9ab60cef",
   "metadata": {},
   "outputs": [],
   "source": [
    "import pandas as pd"
   ]
  },
  {
   "cell_type": "code",
   "execution_count": 26,
   "id": "a8995b5d",
   "metadata": {},
   "outputs": [],
   "source": [
    "#1. Write a Pandas program to convert Series of lists to one Series."
   ]
  },
  {
   "cell_type": "code",
   "execution_count": 27,
   "id": "4f785c1c",
   "metadata": {},
   "outputs": [],
   "source": [
    "series=pd.Series([[1,3,4],[2,3,6]])"
   ]
  },
  {
   "cell_type": "code",
   "execution_count": 28,
   "id": "4755fe4f",
   "metadata": {},
   "outputs": [
    {
     "data": {
      "text/plain": [
       "0    [1, 3, 4]\n",
       "1    [2, 3, 6]\n",
       "dtype: object"
      ]
     },
     "execution_count": 28,
     "metadata": {},
     "output_type": "execute_result"
    }
   ],
   "source": [
    "series"
   ]
  },
  {
   "cell_type": "code",
   "execution_count": 29,
   "id": "65d81cb9",
   "metadata": {},
   "outputs": [],
   "source": [
    "series=series.explode()"
   ]
  },
  {
   "cell_type": "code",
   "execution_count": 30,
   "id": "1206d55b",
   "metadata": {},
   "outputs": [
    {
     "data": {
      "text/plain": [
       "0    1\n",
       "0    3\n",
       "0    4\n",
       "1    2\n",
       "1    3\n",
       "1    6\n",
       "dtype: object"
      ]
     },
     "execution_count": 30,
     "metadata": {},
     "output_type": "execute_result"
    }
   ],
   "source": [
    "series"
   ]
  },
  {
   "cell_type": "code",
   "execution_count": 31,
   "id": "043ed02b",
   "metadata": {},
   "outputs": [],
   "source": [
    "series1=pd.Series([1,2,3],[4,5,6])"
   ]
  },
  {
   "cell_type": "code",
   "execution_count": 32,
   "id": "a38afa9c",
   "metadata": {},
   "outputs": [
    {
     "data": {
      "text/plain": [
       "0    1\n",
       "0    3\n",
       "0    4\n",
       "1    2\n",
       "1    3\n",
       "1    6\n",
       "dtype: object"
      ]
     },
     "execution_count": 32,
     "metadata": {},
     "output_type": "execute_result"
    }
   ],
   "source": [
    "series"
   ]
  },
  {
   "cell_type": "code",
   "execution_count": 33,
   "id": "efcfa3e7",
   "metadata": {},
   "outputs": [
    {
     "data": {
      "text/plain": [
       "4    1\n",
       "5    2\n",
       "6    3\n",
       "dtype: int64"
      ]
     },
     "execution_count": 33,
     "metadata": {},
     "output_type": "execute_result"
    }
   ],
   "source": [
    "series1"
   ]
  },
  {
   "cell_type": "code",
   "execution_count": 34,
   "id": "d0997c65",
   "metadata": {},
   "outputs": [
    {
     "data": {
      "text/plain": [
       "(6,)"
      ]
     },
     "execution_count": 34,
     "metadata": {},
     "output_type": "execute_result"
    }
   ],
   "source": [
    "series.shape"
   ]
  },
  {
   "cell_type": "code",
   "execution_count": 35,
   "id": "7d1a2075",
   "metadata": {},
   "outputs": [
    {
     "data": {
      "text/plain": [
       "(3,)"
      ]
     },
     "execution_count": 35,
     "metadata": {},
     "output_type": "execute_result"
    }
   ],
   "source": [
    "series1.shape\n"
   ]
  },
  {
   "cell_type": "code",
   "execution_count": 36,
   "id": "7b747669",
   "metadata": {},
   "outputs": [],
   "source": [
    "#2. Write a Pandas program to create a subset of a given series based on value and condition.\n"
   ]
  },
  {
   "cell_type": "raw",
   "id": "c2266d46",
   "metadata": {},
   "source": []
  },
  {
   "cell_type": "code",
   "execution_count": 37,
   "id": "8f8d8027",
   "metadata": {},
   "outputs": [],
   "source": [
    "series2 = pd.Series([1,2,3,4,5,3,1,3,3,5,6,7,8,9,1,1,1,2,2,2])"
   ]
  },
  {
   "cell_type": "code",
   "execution_count": 38,
   "id": "8df7e57b",
   "metadata": {},
   "outputs": [],
   "source": [
    "resultSeries2=series2[series2>3]\n"
   ]
  },
  {
   "cell_type": "code",
   "execution_count": 39,
   "id": "0cc4c1a7",
   "metadata": {},
   "outputs": [
    {
     "data": {
      "text/plain": [
       "3     4\n",
       "4     5\n",
       "9     5\n",
       "10    6\n",
       "11    7\n",
       "12    8\n",
       "13    9\n",
       "dtype: int64"
      ]
     },
     "execution_count": 39,
     "metadata": {},
     "output_type": "execute_result"
    }
   ],
   "source": [
    "resultSeries2"
   ]
  },
  {
   "cell_type": "code",
   "execution_count": 40,
   "id": "ef6c927d",
   "metadata": {},
   "outputs": [],
   "source": [
    "#3. Write a Pandas program to display most frequent value in a given series and replace everything else as others in the series.\n"
   ]
  },
  {
   "cell_type": "code",
   "execution_count": 41,
   "id": "faf36ee1",
   "metadata": {},
   "outputs": [],
   "source": [
    "series3=pd.Series([1,2,3,4,4,4,4,4,5,2,2,1,1,23,4,4,5,5,3,3])"
   ]
  },
  {
   "cell_type": "raw",
   "id": "d1568271",
   "metadata": {},
   "source": []
  },
  {
   "cell_type": "code",
   "execution_count": 42,
   "id": "39232a4a",
   "metadata": {},
   "outputs": [],
   "source": [
    "resultSeries3=series3.mode()"
   ]
  },
  {
   "cell_type": "code",
   "execution_count": 43,
   "id": "f7487beb",
   "metadata": {},
   "outputs": [
    {
     "data": {
      "text/plain": [
       "0    4\n",
       "dtype: int64"
      ]
     },
     "execution_count": 43,
     "metadata": {},
     "output_type": "execute_result"
    }
   ],
   "source": [
    "resultSeries3"
   ]
  },
  {
   "cell_type": "code",
   "execution_count": 44,
   "id": "8ba108de",
   "metadata": {},
   "outputs": [
    {
     "name": "stdout",
     "output_type": "stream",
     "text": [
      "0    Other\n",
      "1    Other\n",
      "2    Other\n",
      "3    Other\n",
      "4    Other\n",
      "5    Other\n",
      "6        4\n",
      "7        4\n",
      "8        4\n",
      "9        4\n",
      "dtype: object\n"
     ]
    }
   ],
   "source": [
    "my_series = pd.Series([1, 2, 2, 3, 3, 3, 4, 4, 4, 4])\n",
    "most_frequent_value = my_series.mode().iloc[0]\n",
    "my_series = my_series.apply(lambda x: most_frequent_value if x == most_frequent_value else 'Other')\n",
    "\n",
    "print(my_series)"
   ]
  },
  {
   "cell_type": "code",
   "execution_count": 45,
   "id": "29b9d2b7",
   "metadata": {},
   "outputs": [
    {
     "name": "stdout",
     "output_type": "stream",
     "text": [
      "Original Series:\n",
      "0     1\n",
      "1     5\n",
      "2    10\n",
      "3    15\n",
      "4    20\n",
      "5    25\n",
      "6    30\n",
      "7    35\n",
      "8    40\n",
      "dtype: int64\n",
      "\n",
      "Positions of numbers that are multiples of 5:\n",
      "Int64Index([1, 2, 3, 4, 5, 6, 7, 8], dtype='int64')\n"
     ]
    }
   ],
   "source": [
    "#4. Write a Pandas program to find the positions of numbers that are multiples of 5 of a given series.\n",
    "my_series = pd.Series([1, 5, 10, 15, 20, 25, 30, 35, 40])\n",
    "\n",
    "positions_of_multiples_of_5 = my_series.index[my_series % 5 == 0]\n",
    "\n",
    "print(\"Original Series:\")\n",
    "print(my_series)\n",
    "\n",
    "print(\"\\nPositions of numbers that are multiples of 5:\")\n",
    "print(positions_of_multiples_of_5)\n"
   ]
  },
  {
   "cell_type": "code",
   "execution_count": 46,
   "id": "dd87d313",
   "metadata": {},
   "outputs": [],
   "source": [
    "#5. Write a Pandas program to calculate the number of characters in each word in a given series.\n"
   ]
  },
  {
   "cell_type": "code",
   "execution_count": 47,
   "id": "5baffd2f",
   "metadata": {},
   "outputs": [
    {
     "name": "stdout",
     "output_type": "stream",
     "text": [
      "0    7\n",
      "1    6\n",
      "2    6\n",
      "3    7\n",
      "dtype: int64\n"
     ]
    }
   ],
   "source": [
    "import pandas as pd\n",
    "\n",
    "my_series = pd.Series(['shubham', 'subash', 'srijan', 'shreyan'])\n",
    "word_lengths = my_series.str.len()\n",
    "\n",
    "\n",
    "\n",
    "\n",
    "\n",
    "print(word_lengths)"
   ]
  },
  {
   "cell_type": "code",
   "execution_count": 48,
   "id": "85f41c53",
   "metadata": {},
   "outputs": [],
   "source": [
    "#6. Write a Pandas program to convert year-month string to dates adding a specified day of the month.\n"
   ]
  },
  {
   "cell_type": "code",
   "execution_count": 51,
   "id": "7e649a9c",
   "metadata": {},
   "outputs": [
    {
     "name": "stdout",
     "output_type": "stream",
     "text": [
      "  Year-Month String Converted Date\n",
      "0           2022-01     2022-01-06\n",
      "1           2022-02     2022-02-06\n",
      "2           2022-03     2022-03-06\n",
      "3           2022-04     2022-04-06\n"
     ]
    }
   ],
   "source": [
    "year_month_strings = pd.Series(['2022-01', '2022-02', '2022-03', '2022-04'])\n",
    "specified_day = 6\n",
    "\n",
    "dates_with_specified_day = pd.to_datetime(year_month_strings + '-' + str(specified_day), format='%Y-%m-%d')\n",
    "\n",
    "result_df = pd.DataFrame({\n",
    "    'Year-Month String': year_month_strings,\n",
    "    'Converted Date': dates_with_specified_day\n",
    "})\n",
    "\n",
    "print(result_df)"
   ]
  },
  {
   "cell_type": "code",
   "execution_count": 52,
   "id": "1fdae02e",
   "metadata": {},
   "outputs": [],
   "source": [
    "#7. Write a Pandas program to create and display a DataFrame from a specified dictionary data which has the index labels.\n"
   ]
  },
  {
   "cell_type": "code",
   "execution_count": 53,
   "id": "deae0f4b",
   "metadata": {},
   "outputs": [
    {
     "name": "stdout",
     "output_type": "stream",
     "text": [
      "            Name  Age       City\n",
      "Person1  shubham   20      India\n",
      "Person2   rishab   19     berlin\n",
      "Person3    rahul   20    Birgunj\n",
      "Person4   srijan   19  Nepalgunj\n"
     ]
    }
   ],
   "source": [
    "data = {\n",
    "    'Name': ['shubham', 'rishab', 'rahul', 'srijan'],\n",
    "    'Age': [20, 19, 20, 19],\n",
    "    'City': ['India', 'berlin', 'Birgunj', 'Nepalgunj']\n",
    "}\n",
    "index_labels = ['Person1', 'Person2', 'Person3', 'Person4']\n",
    "df = pd.DataFrame(data, index=index_labels)\n",
    "\n",
    "print(df)"
   ]
  },
  {
   "cell_type": "code",
   "execution_count": 54,
   "id": "fbab95ed",
   "metadata": {},
   "outputs": [],
   "source": [
    "#8. Write a Pandas program to select the rows where the number of attempts in the examination is greater than 2.\n"
   ]
  },
  {
   "cell_type": "code",
   "execution_count": 55,
   "id": "3643f875",
   "metadata": {},
   "outputs": [
    {
     "name": "stdout",
     "output_type": "stream",
     "text": [
      "Original DataFrame:\n",
      "   Student  Attempts\n",
      "0  shubham         1\n",
      "1   srijan         4\n",
      "2  utkarsh         3\n",
      "3    Baahu         2\n",
      "\n",
      "Selected rows where the number of attempts is greater than 2:\n",
      "   Student  Attempts\n",
      "1   srijan         4\n",
      "2  utkarsh         3\n"
     ]
    }
   ],
   "source": [
    "data = {\n",
    "    'Student': ['shubham', 'srijan', 'utkarsh', 'Baahu'],\n",
    "    'Attempts': [1, 4, 3, 2]\n",
    "}\n",
    "df = pd.DataFrame(data)\n",
    "selected_rows = df[df['Attempts'] > 2]\n",
    "\n",
    "print(\"Original DataFrame:\")\n",
    "print(df)\n",
    "\n",
    "print(\"\\nSelected rows where the number of attempts is greater than 2:\")\n",
    "print(selected_rows)"
   ]
  },
  {
   "cell_type": "code",
   "execution_count": 56,
   "id": "0a3655ab",
   "metadata": {},
   "outputs": [],
   "source": [
    "#9. Write a Pandas program to append a new row &#39;k&#39; to data frame with given values for each column. Now delete the new row and return the original DataFrame.\n"
   ]
  },
  {
   "cell_type": "code",
   "execution_count": 57,
   "id": "a78baa33",
   "metadata": {},
   "outputs": [
    {
     "name": "stdout",
     "output_type": "stream",
     "text": [
      "DataFrame with New Row:\n",
      "      Name\n",
      "0   Armani\n",
      "1   Ramani\n",
      "2  Krishan\n",
      "3      Anu\n",
      "4  Likhita\n",
      "\n",
      "Original DataFrame after Deleting 'Likhita':\n",
      "      Name\n",
      "0   Armani\n",
      "1   Ramani\n",
      "2  Krishan\n",
      "3      Anu\n"
     ]
    }
   ],
   "source": [
    "data = {'Name': ['Armani','Ramani','Krishan','Anu']}\n",
    "df = pd.DataFrame(data)\n",
    "\n",
    "new_row_values = {'Name': 'Likhita'}\n",
    "df = pd.concat([df, pd.DataFrame([new_row_values])], ignore_index=True)\n",
    "\n",
    "print(\"DataFrame with New Row:\")\n",
    "print(df)\n",
    "\n",
    "df = df.drop(df[df['Name'] == 'Likhita'].index)\n",
    "\n",
    "print(\"\\nOriginal DataFrame after Deleting 'Likhita':\")\n",
    "print(df)"
   ]
  },
  {
   "cell_type": "code",
   "execution_count": 58,
   "id": "94838d81",
   "metadata": {},
   "outputs": [],
   "source": [
    "#10. Write a Pandas program to sort the DataFrame first by &#39;name&#39; in descending order,then by &#39;score&#39; in ascending order.\n"
   ]
  },
  {
   "cell_type": "code",
   "execution_count": 60,
   "id": "bb063312",
   "metadata": {},
   "outputs": [
    {
     "name": "stdout",
     "output_type": "stream",
     "text": [
      "DataFrame sorted by 'Name' in descending order, then by 'Score' in ascending order:\n",
      "     Name  Score\n",
      "2     lia     80\n",
      "1  Nimiss     69\n",
      "3   Nancy     35\n",
      "0     Anu    100\n"
     ]
    }
   ],
   "source": [
    "data = {\n",
    "    'Name': ['Anu','Nimiss','lia','Nancy'],\n",
    "    'Score': [100, 69, 80, 35]\n",
    "}\n",
    "df = pd.DataFrame(data)\n",
    "df_sorted = df.sort_values(by=['Name', 'Score'], ascending=[False, True])\n",
    "\n",
    "print(\"DataFrame sorted by 'Name' in descending order, then by 'Score' in ascending order:\")\n",
    "print(df_sorted)"
   ]
  },
  {
   "cell_type": "code",
   "execution_count": 61,
   "id": "cc13ec63",
   "metadata": {},
   "outputs": [],
   "source": [
    "#11. Write a Pandas program to replace the &#39;qualify&#39; column contains the values &#39;yes&#39; and &#39;no&#39; with True and False.\n"
   ]
  },
  {
   "cell_type": "code",
   "execution_count": 63,
   "id": "f9057c53",
   "metadata": {},
   "outputs": [
    {
     "name": "stdout",
     "output_type": "stream",
     "text": [
      "DataFrame after replacing 'qualify' values:\n",
      "      Name  Qualify\n",
      "0   bikesh     True\n",
      "1   keshav    False\n",
      "2   broran     True\n",
      "3  Nikhila    False\n"
     ]
    }
   ],
   "source": [
    "data = {\n",
    "    'Name': ['bikesh','keshav','broran','Nikhila'],\n",
    "    'Qualify': ['yes', 'no', 'yes', 'no']\n",
    "}\n",
    "df = pd.DataFrame(data)\n",
    "df['Qualify'] = df['Qualify'].replace({'yes': True, 'no': False})\n",
    "\n",
    "print(\"DataFrame after replacing 'qualify' values:\")\n",
    "print(df)"
   ]
  },
  {
   "cell_type": "code",
   "execution_count": 64,
   "id": "fd341dd6",
   "metadata": {},
   "outputs": [],
   "source": [
    "#12. Write a Pandas program to remove infinite values from a given DataFrame."
   ]
  },
  {
   "cell_type": "code",
   "execution_count": 65,
   "id": "96862543",
   "metadata": {},
   "outputs": [
    {
     "name": "stdout",
     "output_type": "stream",
     "text": [
      "Original DataFrame:\n",
      "       Name  Score\n",
      "0  shreyans   90.0\n",
      "1      puja    NaN\n",
      "2    sunita   75.0\n",
      "3  sangeeta    NaN\n",
      "\n",
      "DataFrame after removing infinite values:\n",
      "       Name  Score\n",
      "0  shreyans   90.0\n",
      "2    sunita   75.0\n"
     ]
    }
   ],
   "source": [
    "data = {\n",
    "    'Name': ['shreyans','puja','sunita','sangeeta'],\n",
    "    'Score': [90, np.inf, 75, -np.inf]\n",
    "}\n",
    "df = pd.DataFrame(data)\n",
    "df.replace([np.inf, -np.inf], np.nan, inplace=True)\n",
    "df_cleaned = df.dropna()\n",
    "\n",
    "print(\"Original DataFrame:\")\n",
    "print(df)\n",
    "\n",
    "print(\"\\nDataFrame after removing infinite values:\")\n",
    "print(df_cleaned)"
   ]
  },
  {
   "cell_type": "code",
   "execution_count": null,
   "id": "995aa34a",
   "metadata": {},
   "outputs": [],
   "source": []
  }
 ],
 "metadata": {
  "kernelspec": {
   "display_name": "Python 3 (ipykernel)",
   "language": "python",
   "name": "python3"
  },
  "language_info": {
   "codemirror_mode": {
    "name": "ipython",
    "version": 3
   },
   "file_extension": ".py",
   "mimetype": "text/x-python",
   "name": "python",
   "nbconvert_exporter": "python",
   "pygments_lexer": "ipython3",
   "version": "3.10.6"
  }
 },
 "nbformat": 4,
 "nbformat_minor": 5
}
